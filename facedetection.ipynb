{
 "cells": [
  {
   "cell_type": "code",
   "execution_count": 2,
   "id": "c1542319",
   "metadata": {},
   "outputs": [
    {
     "name": "stdout",
     "output_type": "stream",
     "text": [
      "Embedding created ✅\n",
      "Embedding created ✅\n",
      "Embedding created ✅\n"
     ]
    },
    {
     "ename": "",
     "evalue": "",
     "output_type": "error",
     "traceback": [
      "\u001b[1;31mThe Kernel crashed while executing code in the current cell or a previous cell. \n",
      "\u001b[1;31mPlease review the code in the cell(s) to identify a possible cause of the failure. \n",
      "\u001b[1;31mClick <a href='https://aka.ms/vscodeJupyterKernelCrash'>here</a> for more info. \n",
      "\u001b[1;31mView Jupyter <a href='command:jupyter.viewOutput'>log</a> for further details."
     ]
    }
   ],
   "source": [
    "import cv2\n",
    "cap = cv2.VideoCapture(0)\n",
    "import os\n",
    "import numpy as np\n",
    "import joblib\n",
    "import threading \n",
    "loaded = joblib.load(\"svm_model/all_loaded_models\")\n",
    "scaler = loaded.get('scaler')\n",
    "grid_search = loaded.get('grid_search')\n",
    "# os.makedirs(\"color_face\",exist_ok=True)\n",
    "# os.makedirs(\"gray_face\",exist_ok=True)\n",
    "\n",
    "\n",
    "from deepface import DeepFace\n",
    "frame_count = 0\n",
    "# from pinecone import Pinecone\n",
    "# model = DeepFace.build_model(\"Facenet\")\n",
    "# pinecone_client = Pinecone(api_key=os.getenv(\"PINECONE_API\"),environment = \"us-east-1\")\n",
    "# vector_index = pinecone_client.Index(\"images-kb\")\n",
    "face_cascade = cv2.CascadeClassifier(cv2.data.haarcascades + \"haarcascade_frontalface_default.xml\")\n",
    "while True:\n",
    "    ret,frame = cap.read()\n",
    "    if not ret:\n",
    "        print(\"Failed to grab the frame\")\n",
    "        break\n",
    "    frame_count+=1\n",
    "    gray = cv2.cvtColor(frame,cv2.COLOR_BGR2GRAY)\n",
    "    faces = face_cascade.detectMultiScale(\n",
    "        gray,\n",
    "        scaleFactor=1.1,   # Image size reduction\n",
    "        minNeighbors=7,    # How many neighbors for a candidate rectangle\n",
    "        minSize=(80, 80)   # Minimum face size\n",
    "    )\n",
    "\n",
    "    # Draw rectangles around faces\n",
    "  \n",
    "    \n",
    "    for (x, y, w, h) in faces:\n",
    "        face_img = frame[y:y+h, x:x+w]\n",
    "        prediction = \"unknown\"\n",
    "        if frame_count % 5 == 0:\n",
    "            try:\n",
    "                embedding = DeepFace.represent(\n",
    "                            img_path=face_img,\n",
    "                            model_name=\"ArcFace\",  # or Facenet, VGG-Face, etc.\n",
    "                            detector_backend=\"retinaface\",  # best for faces\n",
    "                            enforce_detection=False\n",
    "                        )\n",
    "                print(\"Embedding created ✅\")\n",
    "                emb_obj = embedding[0]['embedding']\n",
    "                embeddings = np.array(emb_obj).reshape(1,-1)\n",
    "                scaled_emb = scaler.transform(embeddings)\n",
    "                prediction =  grid_search.best_estimator_.predict(scaled_emb)[0]\n",
    "\n",
    "            except Exception as e:\n",
    "                print(\"error\",e)\n",
    "                \n",
    "\n",
    "        # Display name on frame\n",
    "        cv2.putText(frame, prediction, (x, y-10), cv2.FONT_HERSHEY_SIMPLEX, 0.9, (0, 255, 0), 2)\n",
    "    \n",
    "        cv2.rectangle(frame, (x, y), (x + w, y + h), (0, 255, 0), 2)\n",
    "    cv2.imshow(\"camera\",frame)\n",
    "    key = cv2.waitKey(20) & 0xFF \n",
    "\n",
    "    # if key == ord('s'):\n",
    "    #     for (x,y,w,h) in faces:\n",
    "    #         # save graysacle face\n",
    "            \n",
    "    #         image = gray[y:y+h,x:x+w]\n",
    "    #         file_name = f\"gray_face/face_{gray_count}.png\"\n",
    "    #         cv2.imwrite(file_name,image)\n",
    "    #         gray_count +=1 \n",
    "    #         # save color_image face\n",
    "    #         color_file_name = f\"color_face/color_face{color_count}.png\"\n",
    "    #         color_image =frame[y:y+h,x:x+w]\n",
    "    #         cv2.imwrite(color_file_name,color_image)\n",
    "    #         color_count+=1\n",
    "\n",
    "    #         print(\"image saved successfully\")\n",
    "\n",
    "    if key == ord(\"q\"):\n",
    "    \n",
    "        break\n",
    "cap.release()\n",
    "cv2.destroyAllWindows()"
   ]
  },
  {
   "cell_type": "code",
   "execution_count": null,
   "id": "c61c72e9",
   "metadata": {},
   "outputs": [
    {
     "name": "stdout",
     "output_type": "stream",
     "text": [
      "{'scaler': StandardScaler(), 'grid_search': GridSearchCV(cv=3, estimator=SVC(), n_jobs=-1,\n",
      "             param_grid={'C': [0.1, 1, 10], 'gamma': ['scale', 'auto'],\n",
      "                         'kernel': ['linear', 'rbf', 'poly']},\n",
      "             verbose=2)}\n"
     ]
    },
    {
     "ename": "",
     "evalue": "",
     "output_type": "error",
     "traceback": [
      "\u001b[1;31mThe Kernel crashed while executing code in the current cell or a previous cell. \n",
      "\u001b[1;31mPlease review the code in the cell(s) to identify a possible cause of the failure. \n",
      "\u001b[1;31mClick <a href='https://aka.ms/vscodeJupyterKernelCrash'>here</a> for more info. \n",
      "\u001b[1;31mView Jupyter <a href='command:jupyter.viewOutput'>log</a> for further details."
     ]
    }
   ],
   "source": [
    "print(loaded)"
   ]
  },
  {
   "cell_type": "code",
   "execution_count": null,
   "id": "38fc897c",
   "metadata": {},
   "outputs": [],
   "source": []
  }
 ],
 "metadata": {
  "kernelspec": {
   "display_name": "base",
   "language": "python",
   "name": "python3"
  },
  "language_info": {
   "codemirror_mode": {
    "name": "ipython",
    "version": 3
   },
   "file_extension": ".py",
   "mimetype": "text/x-python",
   "name": "python",
   "nbconvert_exporter": "python",
   "pygments_lexer": "ipython3",
   "version": "3.13.0"
  }
 },
 "nbformat": 4,
 "nbformat_minor": 5
}
